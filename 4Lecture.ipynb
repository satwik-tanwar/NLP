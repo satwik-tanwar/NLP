{
 "cells": [
  {
   "cell_type": "code",
   "execution_count": 4,
   "metadata": {},
   "outputs": [],
   "source": [
    "from sklearn.feature_extraction.text import CountVectorizer\n",
    "vect=CountVectorizer(binary=True)"
   ]
  },
  {
   "cell_type": "code",
   "execution_count": 6,
   "metadata": {},
   "outputs": [],
   "source": [
    "corpus=[\"I have a German Shepherd\",\"German Shepherd is from Germany\",\"Germans love gossiping\"]"
   ]
  },
  {
   "cell_type": "code",
   "execution_count": 7,
   "metadata": {},
   "outputs": [
    {
     "data": {
      "text/plain": [
       "CountVectorizer(binary=True)"
      ]
     },
     "execution_count": 7,
     "metadata": {},
     "output_type": "execute_result"
    }
   ],
   "source": [
    "vect.fit(corpus)"
   ]
  },
  {
   "cell_type": "code",
   "execution_count": 8,
   "metadata": {},
   "outputs": [],
   "source": [
    "vocab=vect.vocabulary_"
   ]
  },
  {
   "cell_type": "code",
   "execution_count": 11,
   "metadata": {},
   "outputs": [
    {
     "name": "stdout",
     "output_type": "stream",
     "text": [
      "have:5\n",
      "german:1\n",
      "shepherd:8\n",
      "is:6\n",
      "from:0\n",
      "germany:3\n",
      "germans:2\n",
      "love:7\n",
      "gossiping:4\n"
     ]
    }
   ],
   "source": [
    "for key in vocab.keys():\n",
    "  print(\"{}:{}\".format(key,vocab[key]))"
   ]
  },
  {
   "cell_type": "code",
   "execution_count": 21,
   "metadata": {},
   "outputs": [
    {
     "name": "stdout",
     "output_type": "stream",
     "text": [
      "[[0 1 0 1 0 0 0 0 1]]\n"
     ]
    }
   ],
   "source": [
    "print(vect.transform([\"Germany has German Shepherd\"]).toarray())"
   ]
  },
  {
   "cell_type": "code",
   "execution_count": 22,
   "metadata": {},
   "outputs": [],
   "source": [
    "vec1=vect.transform([\"Germany has German Shepherd\"]).toarray()\n",
    "vec2=vect.transform([\"I have a German Shepherd\"]).toarray()"
   ]
  },
  {
   "cell_type": "code",
   "execution_count": 23,
   "metadata": {},
   "outputs": [
    {
     "name": "stdout",
     "output_type": "stream",
     "text": [
      "[[0.66666667]]\n"
     ]
    }
   ],
   "source": [
    "from sklearn.metrics.pairwise import cosine_similarity\n",
    "similarity=cosine_similarity(vec1,vec2)\n",
    "print(similarity)"
   ]
  },
  {
   "attachments": {},
   "cell_type": "markdown",
   "metadata": {},
   "source": [
    "Task-\n",
    "1. Copy one article of an author.\n",
    "2. Fit vectorizer on that arcticle.\n",
    "3. Transform other articles from that vectorizer.\n",
    "4. Check cosine similarity between those articles to check their uniqeness."
   ]
  },
  {
   "cell_type": "code",
   "execution_count": 59,
   "metadata": {},
   "outputs": [],
   "source": [
    "from sklearn.feature_extraction.text import TfidfVectorizer\n",
    "tfidf=TfidfVectorizer()\n",
    "vect=CountVectorizer(binary=True)"
   ]
  },
  {
   "cell_type": "code",
   "execution_count": 60,
   "metadata": {},
   "outputs": [],
   "source": [
    "corpus=[\n",
    "  \"All of us take cues from our families on how to be or, in many instances, how not to be. When it came to food, I took from mine an open-minded appetite since much of mi familia was found wanting on that front. Anything new or foreign was viewed with wariness, at best, and derision, at worst. So I determined to try my damndest, like Seinfeld’s George Costanza, to do the opposite.\",\n",
    "  \"Amanpreet Bajaj is by all accounts a busy man, whose job entails taking a flight out to somewhere in this world at least once a month, but he is loath to consider himself a typical business traveller. Instead the India country manager of Airbnb, the online rental platform that has reinvented how people travel since 2008, prefers the new-age concept of “bleisure”. The explanation is self-evident: business trips that also afford some of the joys of unencumbered travel.\",\n",
    "  \"There are moments when the therapeutic benefits of travel can hit home harder than any of the dispassionate advice received on a shrink’s couch. Displacement, in a strictly physical sense, clarifies both mind and body. For Kalki Koechlin, that breakthrough came during a trip to Karuna Farm, a nature retreat near Kodaikanal.\",\n",
    "  \"Shey Bhumi is the kind of place that sends the “panorama” feature on smartphones into overdrive. To be fair, that could also double as an accurate general assessment of Ladakh’s beaten-down and barren magnificence, which seems to evoke inexhaustible astonishment from any vantage point. Shey, in particular though, is unlike many of the other stay options available in Leh, Ladakh’s focal city nestled in the Himalayas. Most hotels or guest houses here are located in and around the central shopping square, and as is wont in so many hinterland towns of India, they strive for urbanity. I, however, was headed to an escape removed from all the hubbub.\",\n",
    "  \"A few days before my brief stay in Paris this September, I was lurking online amongst the good people of the internet, as you do anytime you want your productivity to hit sub-zero levels, when I chanced upon a reddit communiqué. It was an extended rant, which the internet claims proficiency in. “So you’re going to take the metro in Paris this summer,” said the author before launching into a list of around 20 dos and don’ts for the inexperienced visitor.\",\n",
    "  \"I check my smartphone for the time—11.40 a.m.—before my attention wheels back to the pressing matter at hand: drinking champagne. Six flutes of the finest white wine from Champagne Pannier, a prestigious house in the scenic Marne Valley of France, have been placed in a shapely cluster on a white tabletop. Standing on one side of that table, in an understated white-walled tasting corner in Pannier’s head office in Chateau-Thierry, Eve Masselaert, the brand’s guest relation manager, is setting the stage for the bubbly.\",\n",
    "  \"It had been a dismal evening for Harpreet “Happy” Dhillon. He veered his open-air green Gypsy to a halt outside a crowded ticketing window in Kanha National Park. Lanky, bearded and soft-spoken, he was a naturalist from the Kanha Earth Lodge, my home in Madhya Pradesh for three days. Happy had driven me and my companion—photographer Riddhi Parekh, on her maiden wildlife assignment—all across the park in search of a memorable tiger sighting\",\n",
    "  \"In 2008, the comedy Bienvenue chez les Ch’tis gave France’s north the image boost it had long been craving. There is a famous scene in the movie where the protagonist is summoned by his superior, who is about to deliver grave news. “Fired?” guesses the hero. “No, worse,” comes the reply. “Transferred.” When our hero finds out that he is to be positioned somewhere up north, he is mortified.\"\n",
    "]"
   ]
  },
  {
   "cell_type": "code",
   "execution_count": 61,
   "metadata": {},
   "outputs": [
    {
     "data": {
      "text/plain": [
       "CountVectorizer(binary=True)"
      ]
     },
     "execution_count": 61,
     "metadata": {},
     "output_type": "execute_result"
    }
   ],
   "source": [
    "tfidf.fit(corpus)\n",
    "vect.fit(corpus)"
   ]
  },
  {
   "cell_type": "code",
   "execution_count": 62,
   "metadata": {},
   "outputs": [],
   "source": [
    "text1=\"Travellers can now fly directly between Pune and Singapore starting December 2, courtesy Vistara which will kick off three to four flights every week. International connections from Pune are rare (right now, Dubai is the sole one); visitors normally rely on Mumbai airport for the same. However, authorities are now planning to connect the city to two more Southeast Asian countries once the Singapore route is up and running.\"\n",
    "text2=\"In a bid to ease paperwork for millions of tourists, the EU has proposed to make the Schengen visa process an online application system in the next few years. The Schengen visa allows travellers to visit and travel across 26 EU member nations for up to 90 days. Right now, tourists submit their visa application to a country’s local consulate and collect their passports in person once the visa is issued—a time-consuming process which became complicated during the last two years of the pandemic. The new proposal envisions a single digital visa application platform for all EU countries. Instead of a physical sticker, the visa is expected to be a cryptographically signed 2D bar code.\""
   ]
  },
  {
   "cell_type": "code",
   "execution_count": 63,
   "metadata": {},
   "outputs": [],
   "source": [
    "tfidfVec1=tfidf.transform([text1]).toarray()\n",
    "tfidfVec2=tfidf.transform([text2]).toarray()\n",
    "\n",
    "countVec1=vect.transform([text1]).toarray()\n",
    "countVec2=vect.transform([text2]).toarray()"
   ]
  },
  {
   "cell_type": "code",
   "execution_count": 64,
   "metadata": {},
   "outputs": [
    {
     "name": "stdout",
     "output_type": "stream",
     "text": [
      "Similarity with tfidf vectoriser:  [[0.53514929]]\n",
      "Similarity with count vectoriser:  [[0.39223227]]\n"
     ]
    }
   ],
   "source": [
    "tfidfSimilarity=cosine_similarity(tfidfVec1,tfidfVec2)\n",
    "countfSimilarity=cosine_similarity(countVec1,countVec2)\n",
    "print(\"Similarity with tfidf vectoriser: \",tfidfSimilarity)\n",
    "print(\"Similarity with count vectoriser: \",countfSimilarity)"
   ]
  },
  {
   "cell_type": "code",
   "execution_count": null,
   "metadata": {},
   "outputs": [],
   "source": []
  },
  {
   "cell_type": "code",
   "execution_count": null,
   "metadata": {},
   "outputs": [],
   "source": []
  }
 ],
 "metadata": {
  "kernelspec": {
   "display_name": "base",
   "language": "python",
   "name": "python3"
  },
  "language_info": {
   "codemirror_mode": {
    "name": "ipython",
    "version": 3
   },
   "file_extension": ".py",
   "mimetype": "text/x-python",
   "name": "python",
   "nbconvert_exporter": "python",
   "pygments_lexer": "ipython3",
   "version": "3.9.7"
  },
  "orig_nbformat": 4,
  "vscode": {
   "interpreter": {
    "hash": "9288daa2b5245ee839764e729efa7d85a57aac7f7dda54ea9abfaca54a4a5b60"
   }
  }
 },
 "nbformat": 4,
 "nbformat_minor": 2
}
